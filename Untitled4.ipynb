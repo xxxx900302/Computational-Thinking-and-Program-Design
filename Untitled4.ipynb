{
  "nbformat": 4,
  "nbformat_minor": 0,
  "metadata": {
    "colab": {
      "name": "Untitled4.ipynb",
      "provenance": []
    },
    "kernelspec": {
      "name": "python3",
      "display_name": "Python 3"
    }
  },
  "cells": [
    {
      "cell_type": "code",
      "metadata": {
        "id": "WIRHYuFYI7SD",
        "colab_type": "code",
        "colab": {
          "base_uri": "https://localhost:8080/",
          "height": 84
        },
        "outputId": "d2b085dd-5d1f-47d9-a1dd-086b77ea9e9d"
      },
      "source": [
        "noodle = input(\"有麵嗎?(yes/no)\")\n",
        "sauce  = input(\"有醬嗎?(yes/no)\")\n",
        "\n",
        "if noodle ==\"yes\":\n",
        "  if sauce ==\"yes\":\n",
        "      print(\"可做義大利麵!\")\n",
        "\n",
        "print(\"Well done!\")"
      ],
      "execution_count": 4,
      "outputs": [
        {
          "output_type": "stream",
          "text": [
            "有麵嗎?(yes/no)yes\n",
            "有醬嗎?(yes/no)yes\n",
            "可做義大利麵!\n",
            "Well done!\n"
          ],
          "name": "stdout"
        }
      ]
    },
    {
      "cell_type": "code",
      "metadata": {
        "id": "Lnx4PNEMKUp9",
        "colab_type": "code",
        "colab": {
          "base_uri": "https://localhost:8080/",
          "height": 84
        },
        "outputId": "c2e78e1a-5352-4b94-9b5c-bf844a018de9"
      },
      "source": [
        "noodle = input(\"有麵嗎?(yes/no)\")\n",
        "sauce = input(\"有醬料嗎?(yes/no)\")\n",
        "\n",
        "if noodle == \"yes\" and sauce == \"yes\":\n",
        "  print(\"今晚吃義大利麵!\")\n",
        "\n",
        "print(\"well done!\")"
      ],
      "execution_count": 5,
      "outputs": [
        {
          "output_type": "stream",
          "text": [
            "有麵嗎?(yes/no)yes\n",
            "有醬料嗎?(yes/no)yes\n",
            "今晚吃義大利麵!\n",
            "well done!\n"
          ],
          "name": "stdout"
        }
      ]
    }
  ]
}